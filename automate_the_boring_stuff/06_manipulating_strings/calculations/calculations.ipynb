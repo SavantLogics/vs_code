{
 "cells": [
  {
   "cell_type": "markdown",
   "metadata": {},
   "source": [
    "# Future Value Series"
   ]
  },
  {
   "cell_type": "code",
   "execution_count": 2,
   "metadata": {},
   "outputs": [
    {
     "name": "stdout",
     "output_type": "stream",
     "text": [
      "122593.41619775903\n"
     ]
    }
   ],
   "source": [
    "# Assuming you have the following variables:\n",
    "PMT = 100  # Monthly payment\n",
    "r = 0.024  # Monthly interest rate (28.78% annualized / 12)\n",
    "n = 144    # Number of periods (12 years * 12 months/year)\n",
    "\n",
    "# Calculate the future value\n",
    "FV = PMT * (((1+r)**n - 1) / r)\n",
    "\n",
    "print(FV)"
   ]
  },
  {
   "cell_type": "code",
   "execution_count": 3,
   "metadata": {},
   "outputs": [
    {
     "name": "stdout",
     "output_type": "stream",
     "text": [
      "Future Value for NVDA: 63826089.42908208\n",
      "Future Value for PLTR: 2000005.9582298563\n"
     ]
    }
   ],
   "source": [
    "# For Nvidia (NVDA)\n",
    "PMT_NVDA = 100  # Monthly payment\n",
    "r_NVDA = 0.078  # Monthly interest rate (93.49% annualized / 12)\n",
    "n_NVDA = 144    # Number of periods (12 years * 12 months/year)\n",
    "\n",
    "FV_NVDA = PMT_NVDA * (((1+r_NVDA)**n_NVDA - 1) / r_NVDA)\n",
    "\n",
    "# For Palantir (PLTR)\n",
    "PMT_PLTR = 100  # Monthly payment\n",
    "r_PLTR = 0.049  # Monthly interest rate (59.21% annualized / 12)\n",
    "n_PLTR = 144    # Number of periods (12 years * 12 months/year)\n",
    "\n",
    "FV_PLTR = PMT_PLTR * (((1+r_PLTR)**n_PLTR - 1) / r_PLTR)\n",
    "\n",
    "print(\"Future Value for NVDA:\", FV_NVDA)\n",
    "print(\"Future Value for PLTR:\", FV_PLTR)"
   ]
  },
  {
   "cell_type": "markdown",
   "metadata": {},
   "source": [
    "# Monte Carlo Simulation"
   ]
  },
  {
   "cell_type": "code",
   "execution_count": 4,
   "metadata": {},
   "outputs": [
    {
     "data": {
      "image/png": "[encoded data removed]",
      "text/plain": [
       "<Figure size 640x480 with 1 Axes>"
      ]
     },
     "metadata": {},
     "output_type": "display_data"
    }
   ],
   "source": [
    "import numpy as np\n",
    "import matplotlib.pyplot as plt\n",
    "\n",
    "def monte_carlo_simulation(initial_investment, annual_return_mean, annual_return_std, num_simulations, num_years):\n",
    "    \"\"\"\n",
    "    Simulates the future value of an investment using Monte Carlo simulation.\n",
    "\n",
    "    Args:\n",
    "        initial_investment: Initial investment amount.\n",
    "        annual_return_mean: Mean annual return.\n",
    "        annual_return_std: Standard deviation of annual returns.\n",
    "        num_simulations: Number of simulations to run.\n",
    "        num_years: Number of years to simulate.\n",
    "\n",
    "    Returns:\n",
    "        A list of final values for each simulation.\n",
    "    \"\"\"\n",
    "\n",
    "    simulations = np.zeros((num_simulations, num_years))\n",
    "    for i in range(num_simulations):\n",
    "        for j in range(1, num_years):\n",
    "            simulations[i, j] = simulations[i, j-1] * (1 + np.random.normal(annual_return_mean, annual_return_std))\n",
    "    simulations *= initial_investment\n",
    "    return simulations[:, -1]\n",
    "\n",
    "# Example usage:\n",
    "initial_investment = 10000\n",
    "annual_return_mean = 0.08\n",
    "annual_return_std = 0.15\n",
    "num_simulations = 1000\n",
    "num_years = 10\n",
    "\n",
    "final_values = monte_carlo_simulation(initial_investment, annual_return_mean, annual_return_std, num_simulations, num_years)\n",
    "\n",
    "# Visualize the distribution of final values\n",
    "plt.hist(final_values, bins=50)\n",
    "plt.xlabel('Final Value')\n",
    "plt.ylabel('Frequency')\n",
    "plt.title('Monte Carlo Simulation of Investment Returns')\n",
    "plt.show()"
   ]
  },
  {
   "cell_type": "markdown",
   "metadata": {},
   "source": [
    "# Time-Weighted Return (TWR)"
   ]
  },
  {
   "cell_type": "code",
   "execution_count": 5,
   "metadata": {},
   "outputs": [],
   "source": [
    "def time_weighted_return(cashflows, periods):\n",
    "    \"\"\"\n",
    "    Calculates the time-weighted return of an investment.\n",
    "\n",
    "    Args:\n",
    "        cashflows: A list of cash flows, positive for inflows, negative for outflows.\n",
    "        periods: A list of corresponding time periods in years.\n",
    "\n",
    "    Returns:\n",
    "        The time-weighted return.\n",
    "    \"\"\"\n",
    "\n",
    "    returns = []\n",
    "    for i in range(1, len(cashflows)):\n",
    "        returns.append((cashflows[i] - cashflows[i-1]) / cashflows[i-1])\n",
    "    return np.prod(1 + returns)**(1 / np.sum(periods)) - 1"
   ]
  },
  {
   "cell_type": "markdown",
   "metadata": {},
   "source": [
    "#  Risk-Adjusted Return Metrics (Sharpe Ratio, Sortino Ratio)"
   ]
  },
  {
   "cell_type": "code",
   "execution_count": 13,
   "metadata": {},
   "outputs": [
    {
     "data": {
      "text/plain": [
       "np.float64(3.396390599968073)"
      ]
     },
     "execution_count": 13,
     "metadata": {},
     "output_type": "execute_result"
    }
   ],
   "source": [
    "def sharpe_ratio(returns, risk_free_rate):\n",
    "    \"\"\"\n",
    "    Calculates the Sharpe ratio.\n",
    "\n",
    "    Args:\n",
    "        returns: A list of returns.\n",
    "        risk_free_rate: The risk-free rate of return.\n",
    "\n",
    "    Returns:\n",
    "        The Sharpe ratio.\n",
    "    \"\"\"\n",
    "\n",
    "    excess_return = np.mean(returns) - risk_free_rate\n",
    "    std_dev = np.std(returns)\n",
    "    return excess_return / std_dev\n",
    "    print(f'excess_return / std_dev')\n",
    "\n",
    "sharpe_ratio([59,40,30,45],8)\n"
   ]
  },
  {
   "cell_type": "code",
   "execution_count": 14,
   "metadata": {},
   "outputs": [
    {
     "ename": "TypeError",
     "evalue": "unsupported operand type(s) for -: 'list' and 'int'",
     "output_type": "error",
     "traceback": [
      "\u001b[1;31m---------------------------------------------------------------------------\u001b[0m",
      "\u001b[1;31mTypeError\u001b[0m                                 Traceback (most recent call last)",
      "Cell \u001b[1;32mIn[14], line 17\u001b[0m\n\u001b[0;32m     14\u001b[0m     excess_return \u001b[38;5;241m=\u001b[39m np\u001b[38;5;241m.\u001b[39mmean(returns) \u001b[38;5;241m-\u001b[39m risk_free_rate\n\u001b[0;32m     15\u001b[0m     \u001b[38;5;28;01mreturn\u001b[39;00m excess_return \u001b[38;5;241m/\u001b[39m downside_deviation\n\u001b[1;32m---> 17\u001b[0m \u001b[43msortino_ratio\u001b[49m\u001b[43m(\u001b[49m\u001b[43m[\u001b[49m\u001b[38;5;241;43m59\u001b[39;49m\u001b[43m,\u001b[49m\u001b[38;5;241;43m40\u001b[39;49m\u001b[43m,\u001b[49m\u001b[38;5;241;43m30\u001b[39;49m\u001b[43m,\u001b[49m\u001b[38;5;241;43m45\u001b[39;49m\u001b[43m]\u001b[49m\u001b[43m,\u001b[49m\u001b[38;5;241;43m8\u001b[39;49m\u001b[43m)\u001b[49m\n",
      "Cell \u001b[1;32mIn[14], line 13\u001b[0m, in \u001b[0;36msortino_ratio\u001b[1;34m(returns, risk_free_rate)\u001b[0m\n\u001b[0;32m      1\u001b[0m \u001b[38;5;28;01mdef\u001b[39;00m \u001b[38;5;21msortino_ratio\u001b[39m(returns, risk_free_rate):\n\u001b[0;32m      2\u001b[0m \u001b[38;5;250m    \u001b[39m\u001b[38;5;124;03m\"\"\"\u001b[39;00m\n\u001b[0;32m      3\u001b[0m \u001b[38;5;124;03m    Calculates the Sortino ratio.\u001b[39;00m\n\u001b[0;32m      4\u001b[0m \n\u001b[1;32m   (...)\u001b[0m\n\u001b[0;32m     10\u001b[0m \u001b[38;5;124;03m        The Sortino ratio.\u001b[39;00m\n\u001b[0;32m     11\u001b[0m \u001b[38;5;124;03m    \"\"\"\u001b[39;00m\n\u001b[1;32m---> 13\u001b[0m     downside_deviation \u001b[38;5;241m=\u001b[39m np\u001b[38;5;241m.\u001b[39mstd(np\u001b[38;5;241m.\u001b[39mminimum(\u001b[43mreturns\u001b[49m\u001b[43m \u001b[49m\u001b[38;5;241;43m-\u001b[39;49m\u001b[43m \u001b[49m\u001b[43mrisk_free_rate\u001b[49m, \u001b[38;5;241m0\u001b[39m))\n\u001b[0;32m     14\u001b[0m     excess_return \u001b[38;5;241m=\u001b[39m np\u001b[38;5;241m.\u001b[39mmean(returns) \u001b[38;5;241m-\u001b[39m risk_free_rate\n\u001b[0;32m     15\u001b[0m     \u001b[38;5;28;01mreturn\u001b[39;00m excess_return \u001b[38;5;241m/\u001b[39m downside_deviation\n",
      "\u001b[1;31mTypeError\u001b[0m: unsupported operand type(s) for -: 'list' and 'int'"
     ]
    }
   ],
   "source": [
    "def sortino_ratio(returns, risk_free_rate):\n",
    "    \"\"\"\n",
    "    Calculates the Sortino ratio.\n",
    "\n",
    "    Args:\n",
    "        returns: A list of returns.\n",
    "        risk_free_rate: The risk-free rate of return.\n",
    "\n",
    "    Returns:\n",
    "        The Sortino ratio.\n",
    "    \"\"\"\n",
    "\n",
    "    downside_deviation = np.std(np.minimum(returns - risk_free_rate, 0))\n",
    "    excess_return = np.mean(returns) - risk_free_rate\n",
    "    return excess_return / downside_deviation\n",
    "\n",
    "sortino_ratio([59,40,30,45],8)"
   ]
  },
  {
   "cell_type": "markdown",
   "metadata": {},
   "source": [
    "# Capital Asset Pricing Model (CAPM)"
   ]
  },
  {
   "cell_type": "code",
   "execution_count": 7,
   "metadata": {},
   "outputs": [
    {
     "name": "stdout",
     "output_type": "stream",
     "text": [
      "Expected return: 0.126\n"
     ]
    }
   ],
   "source": [
    "import numpy as np\n",
    "\n",
    "def capm_expected_return(beta, market_risk_premium, risk_free_rate):\n",
    "  \"\"\"\n",
    "  Calculates the expected return of an asset using the CAPM.\n",
    "\n",
    "  Args:\n",
    "    beta: The asset's beta, a measure of its systematic risk.\n",
    "    market_risk_premium: The expected return of the market in excess of the risk-free rate.\n",
    "    risk_free_rate: The risk-free rate of return.\n",
    "\n",
    "  Returns:\n",
    "    The expected return of the asset.\n",
    "  \"\"\"\n",
    "\n",
    "  return risk_free_rate + beta * market_risk_premium\n",
    "\n",
    "# Example usage:\n",
    "beta = 1.2  # Asset's beta\n",
    "market_risk_premium = 0.08  # 8% market risk premium\n",
    "risk_free_rate = 0.03  # 3% risk-free rate\n",
    "\n",
    "expected_return = capm_expected_return(beta, market_risk_premium, risk_free_rate)\n",
    "print(\"Expected return:\", expected_return)"
   ]
  }
 ],
 "metadata": {
  "kernelspec": {
   "display_name": "Python 3",
   "language": "python",
   "name": "python3"
  },
  "language_info": {
   "codemirror_mode": {
    "name": "ipython",
    "version": 3
   },
   "file_extension": ".py",
   "mimetype": "text/x-python",
   "name": "python",
   "nbconvert_exporter": "python",
   "pygments_lexer": "ipython3",
   "version": "3.11.8"
  }
 },
 "nbformat": 4,
 "nbformat_minor": 2
}
