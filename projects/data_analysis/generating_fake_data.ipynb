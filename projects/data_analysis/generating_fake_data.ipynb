{
 "cells": [
  {
   "cell_type": "code",
   "execution_count": null,
   "metadata": {},
   "outputs": [],
   "source": [
    "import pandas as pd\n",
    "from faker import Faker\n",
    "import random\n",
    "\n",
    "# Set up Faker\n",
    "fake = Faker()\n",
    "\n",
    "# Generate fake data\n",
    "data = []\n",
    "for _ in range(1000):\n",
    "    retailer = fake.company()\n",
    "    retailer_id = random.randint(100000, 999999)\n",
    "    invoice_date = fake.date_between(start_date='-2y', end_date='today')\n",
    "    region = fake.random_element(elements=('Northeast', 'Southwest', 'Southeast', 'Northwest'))\n",
    "    state = fake.state()\n",
    "    city = fake.city()\n",
    "    beverage_brand = fake.random_element(elements=('Cola-Soda', 'Diet-Soda', 'Powerade', 'Sprite', 'Fanta', 'Orange-Soda'))\n",
    "    days_to_deliver = random.randint(10, 60)\n",
    "    delivery_company = fake.random_element(elements=('USPS', 'FedEx', 'DHL'))\n",
    "    price_per_unit = round(random.uniform(0.4, 0.8), 2)\n",
    "    units_sold = random.randint(1000, 50000) * 100\n",
    "    total_sales = round(price_per_unit * units_sold, 2)\n",
    "    operating_profit = round(total_sales * random.uniform(0.1, 0.3), 2)\n",
    "    operating_margin = round((operating_profit / total_sales) * 100, 2)\n",
    "    total_cost = round(total_sales - operating_profit, 2)\n",
    "\n",
    "    data.append([retailer, retailer_id, invoice_date, region, state, city, beverage_brand, days_to_deliver,\n",
    "                 delivery_company, price_per_unit, units_sold, total_sales, operating_profit, operating_margin,\n",
    "                 total_cost])\n",
    "\n",
    "# Create DataFrame\n",
    "df = pd.DataFrame(data, columns=['Retailer', 'Retailer_ID', 'Invoice_Date', 'Region', 'State', 'City',\n",
    "                                 'Beverage_brand', 'Days_to_Deliver', 'Delivery_Company', 'Price_per_Unit',\n",
    "                                 'Units_Sold', 'Total_Sales', 'Operating_Profit', 'Operating_Margin', 'Total_Cost'])\n",
    "\n",
    "# Save DataFrame to a CSV file\n",
    "df.to_csv('soda_cola_data.csv', index=False)\n"
   ]
  }
 ],
 "metadata": {
  "kernelspec": {
   "display_name": "Python 3",
   "language": "python",
   "name": "python3"
  },
  "language_info": {
   "name": "python",
   "version": "3.10.11"
  },
  "orig_nbformat": 4
 },
 "nbformat": 4,
 "nbformat_minor": 2
}
